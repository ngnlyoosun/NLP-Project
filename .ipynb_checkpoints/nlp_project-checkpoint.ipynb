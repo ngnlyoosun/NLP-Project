{
 "cells": [
  {
   "cell_type": "markdown",
   "id": "42ae4632-f17e-4fd7-933c-c785afe1c7f0",
   "metadata": {},
   "source": [
    "# NLP PROJECT"
   ]
  },
  {
   "cell_type": "markdown",
   "id": "ee42676f-e32d-4ea9-a4fb-6abc0c63908d",
   "metadata": {},
   "source": [
    "#### 1 Load the data into a pandas data frame."
   ]
  },
  {
   "cell_type": "code",
   "execution_count": null,
   "id": "bd96beba-aa7d-4e06-9cca-79f54d7e730e",
   "metadata": {},
   "outputs": [],
   "source": [
    "from sklearn.metrics import accuracy_score\n",
    "from sklearn.metrics import confusion_matrix\n",
    "from sklearn.model_selection import cross_val_score\n",
    "from sklearn.naive_bayes import MultinomialNB\n",
    "from sklearn.feature_extraction.text import TfidfTransformer\n",
    "from sklearn.feature_extraction.text import CountVectorizer\n",
    "import pandas as pd\n",
    "import os"
   ]
  },
  {
   "cell_type": "code",
   "execution_count": 2,
   "id": "a3562008-8b21-494f-8e0e-efcf7065b92a",
   "metadata": {},
   "outputs": [],
   "source": [
    "filename = 'Youtube01-Psy.csv'"
   ]
  },
  {
   "cell_type": "code",
   "execution_count": 3,
   "id": "79276f66-cad3-4fbf-bc95-2a288e6babd8",
   "metadata": {},
   "outputs": [],
   "source": [
    "youtube_df = pd.read_csv(filename)"
   ]
  },
  {
   "cell_type": "markdown",
   "id": "1eb14e05-be2a-480d-91c7-5243b06a2dbc",
   "metadata": {},
   "source": [
    "#### 2.Carry out some basic data exploration and present your results."
   ]
  },
  {
   "cell_type": "code",
   "execution_count": 4,
   "id": "42c11896-bf65-4710-8956-dd1a66d0116f",
   "metadata": {},
   "outputs": [
    {
     "name": "stdout",
     "output_type": "stream",
     "text": [
      "                                    COMMENT_ID            AUTHOR  \\\n",
      "0  LZQPQhLyRh80UYxNuaDWhIGQYNQ96IuCg-AYWqNPjpU         Julius NM   \n",
      "1  LZQPQhLyRh_C2cTtd9MvFRJedxydaVW-2sNg5Diuo4A       adam riyati   \n",
      "2  LZQPQhLyRh9MSZYnf8djyk0gEF9BHDPYrrK-qCczIY8  Evgeny Murashkin   \n",
      "3          z13jhp0bxqncu512g22wvzkasxmvvzjaz04   ElNino Melendez   \n",
      "4          z13fwbwp1oujthgqj04chlngpvzmtt3r3dw            GsMega   \n",
      "\n",
      "                  DATE                                            CONTENT  \\\n",
      "0  2013-11-07T06:20:48  Huh, anyway check out this you[tube] channel: ...   \n",
      "1  2013-11-07T12:37:15  Hey guys check out my new channel and our firs...   \n",
      "2  2013-11-08T17:34:21             just for test I have to say murdev.com   \n",
      "3  2013-11-09T08:28:43   me shaking my sexy ass on my channel enjoy ^_^ ﻿   \n",
      "4  2013-11-10T16:05:38            watch?v=vtaRGgvGtWQ   Check this out .﻿   \n",
      "\n",
      "   CLASS  \n",
      "0      1  \n",
      "1      1  \n",
      "2      1  \n",
      "3      1  \n",
      "4      1  \n"
     ]
    }
   ],
   "source": [
    "print(youtube_df.head())"
   ]
  },
  {
   "cell_type": "code",
   "execution_count": 5,
   "id": "f690b436-9ff1-4982-a44f-225a521a7d6b",
   "metadata": {},
   "outputs": [
    {
     "name": "stdout",
     "output_type": "stream",
     "text": [
      "                                COMMENT_ID  \\\n",
      "345      z13th1q4yzihf1bll23qxzpjeujterydj   \n",
      "346  z13fcn1wfpb5e51xe04chdxakpzgchyaxzo0k   \n",
      "347    z130zd5b3titudkoe04ccbeohojxuzppvbg   \n",
      "348    z12he50arvrkivl5u04cctawgxzkjfsjcc4   \n",
      "349  z13vhvu54u3ewpp5h04ccb4zuoardrmjlyk0k   \n",
      "\n",
      "                                   AUTHOR                 DATE  \\\n",
      "345                       Carmen Racasanu  2014-11-14T13:27:52   \n",
      "346                       diego mogrovejo  2014-11-14T13:28:08   \n",
      "347  BlueYetiPlayz -Call Of Duty and More  2015-05-23T13:04:32   \n",
      "348                          Photo Editor  2015-06-05T14:14:48   \n",
      "349                            Ray Benich  2015-06-05T18:05:16   \n",
      "\n",
      "                                               CONTENT  CLASS  \n",
      "345  How can this have 2 billion views when there's...      0  \n",
      "346         I don't now why I'm watching this in 2014﻿      0  \n",
      "347  subscribe to me for call of duty vids and give...      1  \n",
      "348  hi guys please my android photo editor downloa...      1  \n",
      "349  The first billion viewed this because they tho...      0  \n"
     ]
    }
   ],
   "source": [
    "print(youtube_df.tail())"
   ]
  },
  {
   "cell_type": "code",
   "execution_count": 6,
   "id": "9b87921f-b7c3-4a5b-8e63-bfe001cbb648",
   "metadata": {},
   "outputs": [
    {
     "name": "stdout",
     "output_type": "stream",
     "text": [
      "Length:  350\n"
     ]
    }
   ],
   "source": [
    "print('Length: ', len(youtube_df))"
   ]
  },
  {
   "cell_type": "code",
   "execution_count": 7,
   "id": "b04c6fa9-dd2e-4af4-b0d5-d0cb932be354",
   "metadata": {},
   "outputs": [
    {
     "name": "stdout",
     "output_type": "stream",
     "text": [
      "Length Of Class01:  175\n"
     ]
    }
   ],
   "source": [
    "print('Length Of Class01: ', len(youtube_df.query('CLASS==1')))"
   ]
  },
  {
   "cell_type": "code",
   "execution_count": 8,
   "id": "b2124b5f-0aad-462e-b162-4e3878d6de95",
   "metadata": {},
   "outputs": [
    {
     "name": "stdout",
     "output_type": "stream",
     "text": [
      "Length Of Class02:  175\n"
     ]
    }
   ],
   "source": [
    "print('Length Of Class02: ', len(youtube_df.query('CLASS==0')))"
   ]
  },
  {
   "cell_type": "code",
   "execution_count": 9,
   "id": "8fadc2d7-a561-4934-ad38-87c1b10d62a3",
   "metadata": {},
   "outputs": [
    {
     "name": "stdout",
     "output_type": "stream",
     "text": [
      "<class 'pandas.core.frame.DataFrame'>\n",
      "RangeIndex: 350 entries, 0 to 349\n",
      "Data columns (total 5 columns):\n",
      " #   Column      Non-Null Count  Dtype \n",
      "---  ------      --------------  ----- \n",
      " 0   COMMENT_ID  350 non-null    object\n",
      " 1   AUTHOR      350 non-null    object\n",
      " 2   DATE        350 non-null    object\n",
      " 3   CONTENT     350 non-null    object\n",
      " 4   CLASS       350 non-null    int64 \n",
      "dtypes: int64(1), object(4)\n",
      "memory usage: 13.8+ KB\n",
      "None\n"
     ]
    }
   ],
   "source": [
    "print(youtube_df.info())"
   ]
  },
  {
   "cell_type": "markdown",
   "id": "5efb5621-a9fd-4ab6-803d-690f592c72d6",
   "metadata": {},
   "source": [
    "#### 3.Using nltk toolkit classes and methods prepare the data for model building, \n",
    "#### refer to the third lab tutorial in module 11 (Building a Category text predictor ).\n",
    "#### Use count_vectorizer.fit_transform()."
   ]
  },
  {
   "cell_type": "code",
   "execution_count": 10,
   "id": "1fca5b82-a4cd-4b0e-8ee7-90f971345814",
   "metadata": {},
   "outputs": [],
   "source": [
    "count_vetorizer = CountVectorizer(stop_words=\"english\")"
   ]
  },
  {
   "cell_type": "code",
   "execution_count": 11,
   "id": "7cedceda-bbdc-40cd-bd98-1dc09e1592ac",
   "metadata": {},
   "outputs": [],
   "source": [
    "youtube_df_vec = count_vetorizer.fit_transform(youtube_df['CONTENT'])"
   ]
  },
  {
   "cell_type": "markdown",
   "id": "2cc54f6a-5de3-44a2-bd6f-03f42a08264a",
   "metadata": {},
   "source": [
    "#### 4.Present highlights of the output (initial features) such as the new shape of the data\n",
    "#### and any other useful information before proceeding."
   ]
  },
  {
   "cell_type": "code",
   "execution_count": 44,
   "id": "8506ebc3-1e4e-4add-bb99-0955b1d202d1",
   "metadata": {},
   "outputs": [
    {
     "name": "stdout",
     "output_type": "stream",
     "text": [
      "  (0, 272)\t1\n",
      "  (0, 274)\t1\n",
      "  (0, 587)\t1\n",
      "  (0, 662)\t1\n",
      "  (0, 1122)\t1\n",
      "  (1, 272)\t1\n",
      "  (1, 274)\t1\n",
      "  (1, 306)\t1\n",
      "  (1, 542)\t1\n",
      "  (1, 569)\t1\n",
      "  (1, 684)\t1\n",
      "  (1, 689)\t1\n",
      "  (1, 767)\t1\n",
      "  (1, 768)\t1\n",
      "  (1, 793)\t1\n",
      "  (1, 975)\t1\n",
      "  (1, 1044)\t1\n",
      "  (1, 1158)\t1\n",
      "  (1, 1207)\t1\n",
      "  (2, 301)\t1\n",
      "  (2, 644)\t1\n",
      "  (2, 782)\t1\n",
      "  (2, 953)\t1\n",
      "  (2, 1081)\t1\n",
      "  (3, 189)\t1\n",
      "  :\t:\n",
      "  (347, 1162)\t1\n",
      "  (348, 171)\t1\n",
      "  (348, 183)\t1\n",
      "  (348, 248)\t1\n",
      "  (348, 301)\t2\n",
      "  (348, 361)\t1\n",
      "  (348, 389)\t1\n",
      "  (348, 411)\t2\n",
      "  (348, 524)\t1\n",
      "  (348, 542)\t1\n",
      "  (348, 570)\t1\n",
      "  (348, 585)\t1\n",
      "  (348, 595)\t1\n",
      "  (348, 849)\t2\n",
      "  (348, 860)\t1\n",
      "  (348, 1030)\t1\n",
      "  (348, 1083)\t1\n",
      "  (349, 217)\t3\n",
      "  (349, 252)\t1\n",
      "  (349, 321)\t1\n",
      "  (349, 552)\t1\n",
      "  (349, 915)\t1\n",
      "  (349, 1039)\t1\n",
      "  (349, 1092)\t1\n",
      "  (349, 1164)\t1\n"
     ]
    }
   ],
   "source": [
    "print(youtube_df_vec)"
   ]
  },
  {
   "cell_type": "code",
   "execution_count": 13,
   "id": "39677209-27ec-4e28-a8b8-63b794ff1855",
   "metadata": {},
   "outputs": [
    {
     "name": "stdout",
     "output_type": "stream",
     "text": [
      "New Shape Of Data:  (350, 1259)\n"
     ]
    }
   ],
   "source": [
    "print('New Shape Of Data: ', youtube_df_vec.shape)"
   ]
  },
  {
   "cell_type": "markdown",
   "id": "a59519b8-16b2-40b9-a1bc-7bd3ddd1ac46",
   "metadata": {},
   "source": [
    "#### 5.Downscale the transformed data using tf-idf\n",
    "#### and again present highlights of the output (final features)\n",
    "#### such as the new shape of the data and any other useful information before proceeding."
   ]
  },
  {
   "cell_type": "code",
   "execution_count": 46,
   "id": "7c06108f-1298-47d5-92eb-8dc350c86eca",
   "metadata": {},
   "outputs": [],
   "source": [
    "tfidf = TfidfTransformer()\n",
    "\n",
    "youtube_df_tfidf = tfidf.fit_transform(youtube_df_vec)"
   ]
  },
  {
   "cell_type": "code",
   "execution_count": 15,
   "id": "19c91c06-aa7f-4163-a431-4016abb6a7b9",
   "metadata": {},
   "outputs": [
    {
     "name": "stdout",
     "output_type": "stream",
     "text": [
      "  (0, 1122)\t0.5375893603287203\n",
      "  (0, 662)\t0.5375893603287203\n",
      "  (0, 587)\t0.5375893603287203\n",
      "  (0, 274)\t0.24714472200799983\n",
      "  (0, 272)\t0.26816510840834695\n",
      "  (1, 1207)\t0.3378750495549352\n",
      "  (1, 1158)\t0.3378750495549352\n",
      "  (1, 1044)\t0.1780339946821082\n",
      "  (1, 975)\t0.3378750495549352\n",
      "  (1, 793)\t0.2206381366921712\n",
      "  (1, 768)\t0.3378750495549352\n",
      "  (1, 767)\t0.3378750495549352\n",
      "  (1, 689)\t0.18266620993845964\n",
      "  (1, 684)\t0.3156628963238835\n",
      "  (1, 569)\t0.2274948127774356\n",
      "  (1, 542)\t0.2274948127774356\n",
      "  (1, 306)\t0.24448569227627748\n",
      "  (1, 274)\t0.1553305205754692\n",
      "  (1, 272)\t0.16854183876885445\n",
      "  (2, 1081)\t0.550388870351491\n",
      "  (2, 953)\t0.46862075498004646\n",
      "  (2, 782)\t0.550388870351491\n",
      "  (2, 644)\t0.3286403285851197\n",
      "  (2, 301)\t0.257942445549031\n",
      "  (3, 971)\t0.5245406800522601\n",
      "  :\t:\n",
      "  (347, 7)\t0.3508741015454107\n",
      "  (348, 1083)\t0.155925745378467\n",
      "  (348, 1030)\t0.23158074816493232\n",
      "  (348, 860)\t0.19033036791682378\n",
      "  (348, 849)\t0.46316149632986464\n",
      "  (348, 595)\t0.23158074816493232\n",
      "  (348, 585)\t0.12989965313379898\n",
      "  (348, 570)\t0.19033036791682378\n",
      "  (348, 542)\t0.155925745378467\n",
      "  (348, 524)\t0.19717612562657555\n",
      "  (348, 411)\t0.46316149632986464\n",
      "  (348, 389)\t0.21635646016149182\n",
      "  (348, 361)\t0.23158074816493232\n",
      "  (348, 301)\t0.2170629085780353\n",
      "  (348, 248)\t0.23158074816493232\n",
      "  (348, 183)\t0.19717612562657555\n",
      "  (348, 171)\t0.21635646016149182\n",
      "  (349, 1164)\t0.27613348754719674\n",
      "  (349, 1092)\t0.3561951275626696\n",
      "  (349, 1039)\t0.3161643075549332\n",
      "  (349, 915)\t0.2927477789772892\n",
      "  (349, 552)\t0.3161643075549332\n",
      "  (349, 321)\t0.3327785989850256\n",
      "  (349, 252)\t0.26933125039964523\n",
      "  (349, 217)\t0.5726896270510287\n"
     ]
    }
   ],
   "source": [
    "print(youtube_df_tfidf)\n"
   ]
  },
  {
   "cell_type": "code",
   "execution_count": 16,
   "id": "667c9cdf-3dbd-4dde-b620-a6ba9fd84a9c",
   "metadata": {},
   "outputs": [
    {
     "name": "stdout",
     "output_type": "stream",
     "text": [
      "Shape of Final Features (350, 1259)\n"
     ]
    }
   ],
   "source": [
    "print('Shape of Final Features', youtube_df_tfidf.shape)"
   ]
  },
  {
   "cell_type": "markdown",
   "id": "93c8e859-2005-40f6-b44e-117243605241",
   "metadata": {},
   "source": [
    "#### 6.Use pandas.sample to shuffle the dataset, set frac =1"
   ]
  },
  {
   "cell_type": "code",
   "execution_count": 17,
   "id": "6217911a-0ba9-4554-9837-685ff1460519",
   "metadata": {},
   "outputs": [],
   "source": [
    "shuffle_youtube_df = youtube_df.sample(frac=1)"
   ]
  },
  {
   "cell_type": "code",
   "execution_count": 18,
   "id": "344098df-4fc6-4b42-8c02-3393254a9156",
   "metadata": {},
   "outputs": [
    {
     "name": "stdout",
     "output_type": "stream",
     "text": [
      "                                COMMENT_ID              AUTHOR  \\\n",
      "346  z13fcn1wfpb5e51xe04chdxakpzgchyaxzo0k     diego mogrovejo   \n",
      "56       z12gv5qoconqsbe0h221wljgmwe4v1nmu       ProsGamerOnly   \n",
      "308    z12dixvi2qepuhb4o04chpd5exjdx3oqdic  DropItLikeItsSloth   \n",
      "64       z125gx4g5wemgtyvr23ryvlrbxjvwl2mi          David Bell   \n",
      "6      z13lfzdo5vmdi1cm123te5uz2mqig1brz04      ferleck ferles   \n",
      "..                                     ...                 ...   \n",
      "14   z12oglnpoq3gjh4om04cfdlbgp2uepyytpw0k      Francisco Nora   \n",
      "160    z12scr5ixnexwh2xa04civ3o3k25dr3wkfw      Freddie Barton   \n",
      "4      z13fwbwp1oujthgqj04chlngpvzmtt3r3dw              GsMega   \n",
      "121  z13vx3kbgmq5fnlgj04cfdoqtpfyw5xqzuc0k          rolle54100   \n",
      "345      z13th1q4yzihf1bll23qxzpjeujterydj     Carmen Racasanu   \n",
      "\n",
      "                    DATE                                            CONTENT  \\\n",
      "346  2014-11-14T13:28:08         I don't now why I'm watching this in 2014﻿   \n",
      "56   2014-01-20T20:00:55                  hi guys check my youtube channel﻿   \n",
      "308  2014-11-11T19:38:11              just came here to check the views :P﻿   \n",
      "64   2014-01-21T03:18:31        the most viewed youtube video of all time?﻿   \n",
      "6    2013-11-27T21:39:24                          Subscribe to my channel ﻿   \n",
      "..                   ...                                                ...   \n",
      "14   2013-11-28T19:52:35  please like :D https://premium.easypromosapp.c...   \n",
      "160  2014-11-06T15:31:35  CHECK MY CHANNEL FOR MY NEW SONG 'STATIC'!! YO...   \n",
      "4    2013-11-10T16:05:38            watch?v=vtaRGgvGtWQ   Check this out .﻿   \n",
      "121  2014-11-05T10:43:27  how can there be 2.124.821.694 views, when im ...   \n",
      "345  2014-11-14T13:27:52  How can this have 2 billion views when there's...   \n",
      "\n",
      "     CLASS  \n",
      "346      0  \n",
      "56       1  \n",
      "308      0  \n",
      "64       0  \n",
      "6        1  \n",
      "..     ...  \n",
      "14       1  \n",
      "160      1  \n",
      "4        1  \n",
      "121      0  \n",
      "345      0  \n",
      "\n",
      "[350 rows x 5 columns]\n"
     ]
    }
   ],
   "source": [
    "print(shuffle_youtube_df)"
   ]
  },
  {
   "cell_type": "markdown",
   "id": "073d1419-8bfa-4781-b2e4-303e0fe52980",
   "metadata": {},
   "source": [
    "#### 7.Using pandas split your dataset into 75% for training and 25% for testing,\n",
    "#### make sure to separate the class from the feature(s).\n",
    "#### (Do not use test_train_ split"
   ]
  },
  {
   "cell_type": "code",
   "execution_count": 19,
   "id": "5b251eb2-7381-4621-9125-eb906fa43280",
   "metadata": {},
   "outputs": [],
   "source": [
    "youtube_df_train = shuffle_youtube_df[:int(len(youtube_df) * 0.75)]\n",
    "youtube_df_test = shuffle_youtube_df[int(len(youtube_df) * 0.75):]"
   ]
  },
  {
   "cell_type": "code",
   "execution_count": 20,
   "id": "0bc40032-3966-4813-afae-f8e87a86b8e1",
   "metadata": {},
   "outputs": [],
   "source": [
    "youtube_df_train_vec = count_vetorizer.fit_transform(\n",
    "    youtube_df_train['CONTENT'])\n",
    "youtube_df_test_vec = count_vetorizer.transform(youtube_df_test['CONTENT'])"
   ]
  },
  {
   "cell_type": "code",
   "execution_count": 21,
   "id": "7c0cb5cf-e4eb-45f0-a33f-9490c651967d",
   "metadata": {},
   "outputs": [],
   "source": [
    "youtube_df_train_tfidf = tfidf.fit_transform(youtube_df_train_vec)\n",
    "youtube_df_test_tfidf = tfidf.transform(youtube_df_test_vec)"
   ]
  },
  {
   "cell_type": "code",
   "execution_count": 22,
   "id": "0d9925fa-0e99-4df4-b81b-054aa42ac0e8",
   "metadata": {},
   "outputs": [
    {
     "name": "stdout",
     "output_type": "stream",
     "text": [
      "  (0, 951)\t0.576308337079649\n",
      "  (0, 301)\t0.5596738368726629\n",
      "  (0, 47)\t0.5955114582715615\n",
      "  (1, 991)\t0.42269209662728535\n",
      "  (1, 443)\t0.5946485128770796\n",
      "  (1, 421)\t0.47127622228396665\n",
      "  (1, 208)\t0.33137003878264754\n",
      "  (1, 207)\t0.36853379395768704\n",
      "  (2, 935)\t0.4040607156675154\n",
      "  (2, 503)\t0.5159632010064019\n",
      "  (2, 208)\t0.3875546575754799\n",
      "  (2, 191)\t0.6483195976160485\n",
      "  (3, 991)\t0.44768494023895383\n",
      "  (3, 932)\t0.5701615004189461\n",
      "  (3, 927)\t0.3865357954488517\n",
      "  (3, 878)\t0.5701615004189461\n",
      "  (4, 835)\t0.7329801333871867\n",
      "  (4, 207)\t0.6802500452478499\n",
      "  (5, 830)\t0.6814174369374626\n",
      "  (5, 459)\t0.7318949901711168\n",
      "  (6, 977)\t0.09643618784068463\n",
      "  (6, 958)\t0.1787943108484627\n",
      "  (6, 947)\t0.1787943108484627\n",
      "  (6, 896)\t0.14538294869160223\n",
      "  (6, 878)\t0.13663386586423332\n",
      "  :\t:\n",
      "  (260, 33)\t0.027419432948656085\n",
      "  (260, 32)\t0.027419432948656085\n",
      "  (260, 31)\t0.027419432948656085\n",
      "  (260, 30)\t0.027419432948656085\n",
      "  (260, 29)\t0.027419432948656085\n",
      "  (260, 28)\t0.027419432948656085\n",
      "  (260, 27)\t0.027419432948656085\n",
      "  (260, 26)\t0.027419432948656085\n",
      "  (260, 25)\t0.027419432948656085\n",
      "  (260, 24)\t0.027419432948656085\n",
      "  (260, 23)\t0.027419432948656085\n",
      "  (260, 22)\t0.027419432948656085\n",
      "  (260, 21)\t0.027419432948656085\n",
      "  (260, 20)\t0.027419432948656085\n",
      "  (260, 19)\t0.027419432948656085\n",
      "  (260, 18)\t0.027419432948656085\n",
      "  (260, 17)\t0.027419432948656085\n",
      "  (261, 992)\t0.2653325926829546\n",
      "  (261, 835)\t0.5086875791099954\n",
      "  (261, 832)\t0.21845091617011203\n",
      "  (261, 630)\t0.20123543858848914\n",
      "  (261, 626)\t0.2653325926829546\n",
      "  (261, 452)\t0.6015944237929619\n",
      "  (261, 441)\t0.2445871203406867\n",
      "  (261, 386)\t0.30079721189648095\n",
      "  (0, 970)\t0.2761514211933312\n",
      "  (0, 802)\t0.2416379188805671\n",
      "  (0, 758)\t0.36981523015801504\n",
      "  (0, 715)\t0.26573636055970595\n",
      "  (0, 503)\t0.24875651323380618\n",
      "  (0, 406)\t0.39721013811754013\n",
      "  (0, 398)\t0.39721013811754013\n",
      "  (0, 205)\t0.39721013811754013\n",
      "  (0, 147)\t0.3503782336351982\n",
      "  (1, 777)\t0.3749580737548494\n",
      "  (1, 758)\t0.44363174977665065\n",
      "  (1, 378)\t0.6766491621772447\n",
      "  (1, 301)\t0.3641353253158933\n",
      "  (1, 164)\t0.26860508129609384\n",
      "  (2, 873)\t0.45359271803761414\n",
      "  (2, 767)\t0.6095354735916917\n",
      "  (2, 557)\t0.45359271803761414\n",
      "  (2, 237)\t0.46580446404027853\n",
      "  (3, 835)\t0.11061550291801027\n",
      "  (3, 690)\t0.9938632755636942\n",
      "  (4, 802)\t1.0\n",
      "  (5, 835)\t1.0\n",
      "  (6, 804)\t0.6299115178380216\n",
      "  (6, 236)\t0.6765736524570961\n",
      "  (6, 164)\t0.3813916261480636\n",
      "  :\t:\n",
      "  (79, 15)\t0.5082526041378898\n",
      "  (80, 832)\t0.6984365768652869\n",
      "  (80, 388)\t0.715671955644973\n",
      "  (82, 208)\t0.6686186604170229\n",
      "  (82, 207)\t0.7436054645725418\n",
      "  (83, 541)\t0.5797984228952199\n",
      "  (83, 456)\t0.638705926567202\n",
      "  (83, 232)\t0.5058542558644219\n",
      "  (84, 802)\t0.35772124554957196\n",
      "  (84, 630)\t0.3933966255280185\n",
      "  (84, 566)\t0.547475186709886\n",
      "  (84, 555)\t0.4963813306926014\n",
      "  (84, 208)\t0.27661029539409704\n",
      "  (84, 207)\t0.3076326453165183\n",
      "  (85, 949)\t0.8655915352134248\n",
      "  (85, 208)\t0.5007507305704768\n",
      "  (86, 996)\t0.5151268517686654\n",
      "  (86, 935)\t0.25263657513410215\n",
      "  (86, 675)\t0.5151268517686654\n",
      "  (86, 470)\t0.41886489735025245\n",
      "  (86, 113)\t0.47959942852976856\n",
      "  (87, 935)\t0.33746412502203027\n",
      "  (87, 684)\t0.6880905198116753\n",
      "  (87, 557)\t0.5120503443354423\n",
      "  (87, 164)\t0.3878838044239137\n"
     ]
    }
   ],
   "source": [
    "print(youtube_df_train_tfidf)\n",
    "print(youtube_df_test_tfidf)"
   ]
  },
  {
   "cell_type": "code",
   "execution_count": 23,
   "id": "bc9a6ae6-04ef-41cb-98a8-d6cc239a2771",
   "metadata": {},
   "outputs": [],
   "source": [
    "youtube_df_train_label = youtube_df_train['CLASS']\n",
    "youtube_df_test_label = youtube_df_test['CLASS']"
   ]
  },
  {
   "cell_type": "markdown",
   "id": "f66bd850-90a3-4a46-b9cf-f45f87aa6b2f",
   "metadata": {},
   "source": [
    "#### 8.Fit the training data into a Naive Bayes classifier."
   ]
  },
  {
   "cell_type": "code",
   "execution_count": 24,
   "id": "d97d76f2-1533-42a4-9b71-edbc4b464ade",
   "metadata": {},
   "outputs": [],
   "source": [
    "classifier = MultinomialNB().fit(youtube_df_train_tfidf, youtube_df_train_label)"
   ]
  },
  {
   "cell_type": "markdown",
   "id": "8e1131ef-6ab2-4002-a93e-178493673792",
   "metadata": {},
   "source": [
    "#### 9.Cross validate the model on the training data using 5-fold and\n",
    "#### print the mean results of model accuracy."
   ]
  },
  {
   "cell_type": "code",
   "execution_count": 25,
   "id": "8af174b1-ee73-4fd7-8e60-ba1ef6d35da5",
   "metadata": {},
   "outputs": [],
   "source": [
    "scores = cross_val_score(\n",
    "    classifier, youtube_df_train_tfidf, youtube_df_train_label, cv=5)"
   ]
  },
  {
   "cell_type": "code",
   "execution_count": 26,
   "id": "fbbcd67f-edd9-40ca-b799-1f65bed9d1c3",
   "metadata": {},
   "outputs": [
    {
     "name": "stdout",
     "output_type": "stream",
     "text": [
      "[0.94339623 0.94339623 0.96153846 0.94230769 0.92307692]\n"
     ]
    }
   ],
   "source": [
    "print(scores)"
   ]
  },
  {
   "cell_type": "code",
   "execution_count": 27,
   "id": "28303e3e-d50b-4b9a-9e99-bf1f72c04804",
   "metadata": {},
   "outputs": [
    {
     "name": "stdout",
     "output_type": "stream",
     "text": [
      "Accuracy :0.943(+/- 0.024)\n"
     ]
    }
   ],
   "source": [
    "print(\"Accuracy :%0.3f(+/- %0.3f)\" % (scores.mean(), scores.std()*2))"
   ]
  },
  {
   "cell_type": "markdown",
   "id": "51e1ccda-357e-4343-aa5d-597d4f12d5be",
   "metadata": {},
   "source": [
    "#### 10.Test the model on the test data, print the confusion matrix and the accuracy of the model."
   ]
  },
  {
   "cell_type": "code",
   "execution_count": 28,
   "id": "549df57c-1efa-4c37-8adb-69c67b1e4292",
   "metadata": {},
   "outputs": [
    {
     "name": "stdout",
     "output_type": "stream",
     "text": [
      "[0 0 0 1 0 1 0 0 1 1 0 0 1 0 0 0 0 1 1 1 1 0 1 0 0 1 1 1 1 0 0 1 1 0 0 1 0\n",
      " 1 0 1 0 1 1 1 1 0 1 1 0 1 1 0 0 0 1 1 0 0 1 1 1 1 1 1 0 1 1 0 1 0 1 0 1 1\n",
      " 1 0 0 0 0 0 0 0 1 1 1 1 0 0]\n"
     ]
    }
   ],
   "source": [
    "test_pred_labels = classifier.predict(youtube_df_test_tfidf)\n",
    "print(test_pred_labels)"
   ]
  },
  {
   "cell_type": "code",
   "execution_count": 29,
   "id": "9d48926d-2234-446e-b022-86c0f416bc6c",
   "metadata": {},
   "outputs": [
    {
     "name": "stdout",
     "output_type": "stream",
     "text": [
      "Confusion Matrix Of The Model:  [[40  2]\n",
      " [ 2 44]]\n",
      "Accuracy Matrix Of The Model: 0.955 \n"
     ]
    }
   ],
   "source": [
    "youtube_confusion_matrix = confusion_matrix(\n",
    "    youtube_df_test_label, test_pred_labels)\n",
    "youtube_accuracy_score = accuracy_score(\n",
    "    youtube_df_test_label, test_pred_labels)\n",
    "print(\"Confusion Matrix Of The Model: \", youtube_confusion_matrix)\n",
    "print(\"Accuracy Matrix Of The Model: %0.3f \" % (youtube_accuracy_score))"
   ]
  },
  {
   "cell_type": "markdown",
   "id": "27943f65-cd3e-48c0-affb-10f03feb7ac9",
   "metadata": {},
   "source": [
    "#### 11.As a group come up with 6 new comments (4 comments should be non spam and 2 comment spam)\n",
    "#### and pass them to the classifier and check the results.\n",
    "#### You can be very creative and even do more  ."
   ]
  },
  {
   "cell_type": "code",
   "execution_count": 30,
   "id": "092c9570-7e55-469d-9398-bce3eaf709bb",
   "metadata": {},
   "outputs": [],
   "source": [
    "youtube_input_data = [\n",
    "    'I remember when no one knew what this guy was saying but everyone loved this song including me 😂',\n",
    "    'If you subscribe me! I will love you!!!!!!!!!!!!!!!!!!!!!!!!!!!!!',\n",
    "    'Subscribe to Number One K-pop Canada YouTube channel, If you wanna know 🔥Hot🔥K-pop news!!',\n",
    "    'This song will never get old... Legendary ✊',\n",
    "    'Check out my awesome video on my channel!',\n",
    "    'I never listen to this song again.'\n",
    "]"
   ]
  },
  {
   "cell_type": "code",
   "execution_count": 31,
   "id": "82c9dc84-7e03-47b9-99aa-846105339f4f",
   "metadata": {},
   "outputs": [],
   "source": [
    "youtube_input_tc = count_vetorizer.transform(youtube_input_data)"
   ]
  },
  {
   "cell_type": "code",
   "execution_count": 32,
   "id": "bda32a27-f680-4ed2-9b5b-659be5acfee2",
   "metadata": {},
   "outputs": [
    {
     "name": "stdout",
     "output_type": "stream",
     "text": [
      "<class 'scipy.sparse.csr.csr_matrix'>\n"
     ]
    }
   ],
   "source": [
    "print(type(youtube_input_tc))"
   ]
  },
  {
   "cell_type": "code",
   "execution_count": 33,
   "id": "a5a6c2e4-1f09-4f33-bf23-e3776441d2d7",
   "metadata": {},
   "outputs": [
    {
     "name": "stdout",
     "output_type": "stream",
     "text": [
      "  (0, 420)\t1\n",
      "  (0, 515)\t1\n",
      "  (0, 741)\t1\n",
      "  (0, 759)\t1\n",
      "  (0, 802)\t1\n",
      "  (1, 566)\t1\n",
      "  (1, 835)\t1\n",
      "  (2, 207)\t1\n",
      "  (2, 516)\t1\n",
      "  (2, 632)\t1\n",
      "  (2, 639)\t1\n",
      "  (2, 692)\t2\n",
      "  (2, 835)\t1\n",
      "  (2, 943)\t1\n",
      "  (2, 991)\t1\n",
      "  (3, 645)\t1\n",
      "  (3, 802)\t1\n",
      "  (4, 147)\t1\n",
      "  (4, 207)\t1\n",
      "  (4, 208)\t1\n",
      "  (4, 927)\t1\n",
      "  (5, 548)\t1\n",
      "  (5, 802)\t1\n"
     ]
    }
   ],
   "source": [
    "print(youtube_input_tc)"
   ]
  },
  {
   "cell_type": "code",
   "execution_count": 34,
   "id": "88657e9f-ae1c-43ff-b804-184985412ebc",
   "metadata": {},
   "outputs": [],
   "source": [
    "youtube_input_tfidf = tfidf.transform(youtube_input_tc)"
   ]
  },
  {
   "cell_type": "code",
   "execution_count": 35,
   "id": "f8cae31b-a108-40ef-a819-3264fbc2b333",
   "metadata": {},
   "outputs": [
    {
     "name": "stdout",
     "output_type": "stream",
     "text": [
      "<class 'scipy.sparse.csr.csr_matrix'>\n",
      "  (0, 802)\t0.3116874021641666\n",
      "  (0, 759)\t0.4519509269180644\n",
      "  (0, 741)\t0.5123591389823152\n",
      "  (0, 515)\t0.5123591389823152\n",
      "  (0, 420)\t0.4166143881248663\n",
      "  (1, 835)\t0.5179312754597577\n",
      "  (1, 566)\t0.8554222313574907\n",
      "  (2, 991)\t0.20766647403731298\n",
      "  (2, 943)\t0.3460884706997084\n",
      "  (2, 835)\t0.19509368145196654\n",
      "  (2, 692)\t0.6921769413994168\n",
      "  (2, 639)\t0.3460884706997084\n",
      "  (2, 632)\t0.3052839175252565\n",
      "  (2, 516)\t0.27234016067750155\n",
      "  (2, 207)\t0.18105877579790597\n",
      "  (3, 802)\t0.6116184829353599\n",
      "  (3, 645)\t0.791152849537843\n",
      "  (4, 927)\t0.41728076050276863\n",
      "  (4, 208)\t0.3788787424737831\n",
      "  (4, 207)\t0.4213706855536409\n",
      "  (4, 147)\t0.7104747784205787\n",
      "  (5, 802)\t0.5469887244412387\n",
      "  (5, 548)\t0.8371399735612597\n"
     ]
    }
   ],
   "source": [
    "print(type(youtube_input_tfidf))\n",
    "\n",
    "print(youtube_input_tfidf)"
   ]
  },
  {
   "cell_type": "code",
   "execution_count": 36,
   "id": "cb12bc6c-b57a-4597-a2a4-2e232be89f79",
   "metadata": {},
   "outputs": [],
   "source": [
    "predictions = classifier.predict(youtube_input_tfidf)\n"
   ]
  },
  {
   "cell_type": "code",
   "execution_count": 37,
   "id": "41541ae6-f089-44a9-afe2-d45b315308d8",
   "metadata": {},
   "outputs": [],
   "source": [
    "category_map = {0: 'Ham', 1: 'Spam'}"
   ]
  },
  {
   "cell_type": "code",
   "execution_count": 38,
   "id": "8f326064-4d8e-4b96-b6bc-f384bbfe7cc4",
   "metadata": {},
   "outputs": [
    {
     "name": "stdout",
     "output_type": "stream",
     "text": [
      "\n",
      "Input: I remember when no one knew what this guy was saying but everyone loved this song including me 😂 \n",
      "Predicted category: Ham\n",
      "\n",
      "Input: If you subscribe me! I will love you!!!!!!!!!!!!!!!!!!!!!!!!!!!!! \n",
      "Predicted category: Spam\n",
      "\n",
      "Input: Subscribe to Number One K-pop Canada YouTube channel, If you wanna know 🔥Hot🔥K-pop news!! \n",
      "Predicted category: Spam\n",
      "\n",
      "Input: This song will never get old... Legendary ✊ \n",
      "Predicted category: Ham\n",
      "\n",
      "Input: Check out my awesome video on my channel! \n",
      "Predicted category: Spam\n",
      "\n",
      "Input: I never listen to this song again. \n",
      "Predicted category: Ham\n"
     ]
    }
   ],
   "source": [
    "for sent, category in zip(youtube_input_data, predictions):\n",
    "    print('\\nInput:', sent, '\\nPredicted category:',\n",
    "          category_map[category])"
   ]
  }
 ],
 "metadata": {
  "kernelspec": {
   "display_name": "Python 3 (ipykernel)",
   "language": "python",
   "name": "python3"
  },
  "language_info": {
   "codemirror_mode": {
    "name": "ipython",
    "version": 3
   },
   "file_extension": ".py",
   "mimetype": "text/x-python",
   "name": "python",
   "nbconvert_exporter": "python",
   "pygments_lexer": "ipython3",
   "version": "3.9.7"
  }
 },
 "nbformat": 4,
 "nbformat_minor": 5
}
